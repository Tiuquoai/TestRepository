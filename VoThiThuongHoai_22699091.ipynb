{
 "cells": [
  {
   "cell_type": "code",
   "execution_count": 41,
   "metadata": {},
   "outputs": [],
   "source": [
    "import pandas as pd\n",
    "import numpy as np"
   ]
  },
  {
   "cell_type": "markdown",
   "metadata": {},
   "source": [
    "Làm việc với Series\n"
   ]
  },
  {
   "cell_type": "markdown",
   "metadata": {},
   "source": [
    "Series([data, index, dtype, name, copy, . . . ])"
   ]
  },
  {
   "cell_type": "code",
   "execution_count": 42,
   "metadata": {},
   "outputs": [
    {
     "name": "stdout",
     "output_type": "stream",
     "text": [
      "0    0\n",
      "1    1\n",
      "2    2\n",
      "3    3\n",
      "dtype: int64\n"
     ]
    }
   ],
   "source": [
    "#Example 1: Creating a Series from a list\n",
    "s = pd.Series([0,1,2,3])\n",
    "print(s)"
   ]
  },
  {
   "cell_type": "code",
   "execution_count": 43,
   "metadata": {},
   "outputs": [
    {
     "name": "stdout",
     "output_type": "stream",
     "text": [
      "a    0\n",
      "b    1\n",
      "c    2\n",
      "d    3\n",
      "dtype: int64\n"
     ]
    }
   ],
   "source": [
    "#Example 2: Creating a Series from a list with an index\n",
    "s = pd.Series([0,1,2,3], index=[\"a\",\"b\",\"c\",\"d\"])\n",
    "print(s)"
   ]
  },
  {
   "cell_type": "code",
   "execution_count": 44,
   "metadata": {},
   "outputs": [
    {
     "name": "stdout",
     "output_type": "stream",
     "text": [
      "a    -1.3\n",
      "c     NaN\n",
      "b    11.7\n",
      "d     2.0\n",
      "e     NaN\n",
      "f    10.0\n",
      "dtype: float64\n"
     ]
    }
   ],
   "source": [
    "#Example 3: Creating a Series from a dictionary\n",
    "data = {'a' :-1.3, 'b' : 11.7, 'd' : 2.0, 'f': 10, 'g': 5}\n",
    "ser = pd.Series(data,index=['a','c','b','d','e','f'])\n",
    "print(ser)"
   ]
  },
  {
   "cell_type": "code",
   "execution_count": 45,
   "metadata": {},
   "outputs": [
    {
     "name": "stdout",
     "output_type": "stream",
     "text": [
      "1    5\n",
      "2    5\n",
      "3    5\n",
      "4    5\n",
      "5    5\n",
      "dtype: int64\n"
     ]
    }
   ],
   "source": [
    "#Example 4: Creating a Series from a scalar value\n",
    "ser = pd.Series(5, index=[1, 2, 3, 4, 5])\n",
    "print(ser)"
   ]
  },
  {
   "cell_type": "code",
   "execution_count": 46,
   "metadata": {},
   "outputs": [
    {
     "name": "stdout",
     "output_type": "stream",
     "text": [
      "Ke toan    310\n",
      "KT         360\n",
      "CNTT       580\n",
      "Co khi     340\n",
      "dtype: int64\n",
      "Index(['Ke toan', 'KT', 'CNTT', 'Co khi'], dtype='object')\n",
      "[310 360 580 340]\n"
     ]
    }
   ],
   "source": [
    "#Example 5: Creating a Series from a numpy array\n",
    "chi_so = [\"Ke toan\", \"KT\", \"CNTT\", \"Co khi\"]\n",
    "gia_tri = [310, 360, 580, 340]\n",
    "S =pd.Series(gia_tri, index=chi_so)\n",
    "print(S)\n",
    "print(S.index)\n",
    "print(S.values)"
   ]
  },
  {
   "cell_type": "code",
   "execution_count": 47,
   "metadata": {},
   "outputs": [
    {
     "name": "stdout",
     "output_type": "stream",
     "text": [
      "2.0\n",
      "nan\n",
      "a    -1.3\n",
      "c     NaN\n",
      "b    11.7\n",
      "d     2.0\n",
      "e     NaN\n",
      "f    10.0\n",
      "dtype: float64\n"
     ]
    }
   ],
   "source": [
    "#Example 6: Accessing elements of a Series\n",
    "data = {'a' : -1.3, 'b' : 11.7, 'd' : 2.0, 'f': 10, 'g': 5}\n",
    "ser = pd.Series(data,index=['a','c','b','d','e','f'])\n",
    "print(ser['d'])\n",
    "print(ser['c'])\n",
    "print(ser)"
   ]
  },
  {
   "cell_type": "code",
   "execution_count": 48,
   "metadata": {},
   "outputs": [
    {
     "name": "stdout",
     "output_type": "stream",
     "text": [
      "a    -1.3\n",
      "c     NaN\n",
      "b    11.7\n",
      "d     2.0\n",
      "dtype: float64\n"
     ]
    }
   ],
   "source": [
    "#Example 7: Slicing a Series\n",
    "data = {'a' : -1.3, 'b' : 11.7, 'd' : 2.0, 'f': 10, 'g': 5}\n",
    "ser = pd.Series(data,index=['a','c','b','d','e','f'])\n",
    "print(ser[:'d'])"
   ]
  },
  {
   "cell_type": "code",
   "execution_count": 49,
   "metadata": {},
   "outputs": [
    {
     "name": "stdout",
     "output_type": "stream",
     "text": [
      "340\n",
      "KT    310\n",
      "KT    360\n",
      "dtype: int64\n",
      "580\n"
     ]
    }
   ],
   "source": [
    "#Example 8: Adding two Series\n",
    "chi_so = [\"KT\", \"KT\", \"CNTT\", \"Co khi\"] # trùng nhau\n",
    "gia_tri = [310, 360, 580, 340]\n",
    "S =pd.Series(gia_tri, index=chi_so)\n",
    "print(S['Co khi'])\n",
    "print(S['KT'])\n",
    "print(S.CNTT)"
   ]
  },
  {
   "cell_type": "code",
   "execution_count": 50,
   "metadata": {},
   "outputs": [],
   "source": [
    "#S.axes: trả về danh sách các chỉ mục của S\n",
    "#S.dtype: trả về kiểu dữ liệu các phần tử của S\n",
    "#S.empty: trả về True nếu S rỗng\n",
    "#S.ndim: trả về số chiều của S (1)\n",
    "#S.size: trả về số phần tử của S\n",
    "#S.values: trả về list các phần tử của S\n",
    "#S.head(n): trả về n phần tử đầu tiên của S\n",
    "#S.tail(n): trả về n phần tử cuối cùng của S"
   ]
  },
  {
   "cell_type": "code",
   "execution_count": 51,
   "metadata": {},
   "outputs": [
    {
     "name": "stdout",
     "output_type": "stream",
     "text": [
      "Ketoan    1310\n",
      "KT        1360\n",
      "CNTT       580\n",
      "Cokhi     1340\n",
      "dtype: int64\n"
     ]
    }
   ],
   "source": [
    "#Example 9:\n",
    "def Tang(x):\n",
    "    return x if x > 500 else x + 1000\n",
    "\n",
    "chi_so = [\"Ketoan\", \"KT\", \"CNTT\", \"Cokhi\"]\n",
    "gia_tri = [310, 360, 580, 340]\n",
    "S = pd.Series(gia_tri, chi_so)\n",
    "# apply Tang on S (without changing S)\n",
    "print(S.apply(Tang))"
   ]
  },
  {
   "cell_type": "markdown",
   "metadata": {},
   "source": [
    "Làm việc với Dataframe"
   ]
  },
  {
   "cell_type": "markdown",
   "metadata": {},
   "source": [
    "Cấu trúc dataframe: DataFrame([data, index, columns, dtype, copy])"
   ]
  },
  {
   "cell_type": "markdown",
   "metadata": {},
   "source": [
    "pandas.DataFrame(data, index, columns, dtype, copy)\n"
   ]
  },
  {
   "cell_type": "code",
   "execution_count": 52,
   "metadata": {},
   "outputs": [
    {
     "name": "stdout",
     "output_type": "stream",
     "text": [
      "   một  hai\n",
      "a  1.0  1.0\n",
      "b  2.0  2.0\n",
      "c  3.0  3.0\n",
      "d  NaN  4.0\n",
      "e  5.0  NaN\n"
     ]
    }
   ],
   "source": [
    "#Example 10: Creating a DataFrame from a dictionary\n",
    "# tạo dict từ các series\n",
    "s = {'một': pd.Series([1., 2., 3., 5.], index=['a', 'b', 'c', 'e']),\n",
    "'hai': pd.Series([1., 2., 3., 4.], index=['a', 'b', 'c', 'd'])}\n",
    "# tại DataFrame từ dict\n",
    "df = pd.DataFrame(s)\n",
    "print(df)"
   ]
  },
  {
   "cell_type": "code",
   "execution_count": 53,
   "metadata": {},
   "outputs": [
    {
     "name": "stdout",
     "output_type": "stream",
     "text": [
      "   một  hai\n",
      "a  1.0  1.0\n",
      "c  3.0  3.0\n",
      "d  NaN  4.0\n"
     ]
    }
   ],
   "source": [
    "#Example 11: Creating a DataFrame from a dictionary with selected index\n",
    "# tạo dict từ các series\n",
    "s = {'một': pd.Series([1., 2., 3., 5.], index=['a', 'b', 'c', 'e']),\n",
    "'hai': pd.Series([1., 2., 3., 4.], index=['a', 'b', 'c', 'd'])}\n",
    "# tạo DataFrame từ dict theo các index được chọn\n",
    "df = pd.DataFrame(s, index=['a','c','d'])\n",
    "print(df)"
   ]
  },
  {
   "cell_type": "code",
   "execution_count": 54,
   "metadata": {},
   "outputs": [
    {
     "name": "stdout",
     "output_type": "stream",
     "text": [
      "          0\n",
      "0       MIT\n",
      "1  Stanford\n",
      "2      DHTL\n",
      "          0    1\n",
      "0       MIT    1\n",
      "1  Stanford    2\n",
      "2      DHTL  200\n"
     ]
    }
   ],
   "source": [
    "#Example 12: Creating a DataFrame from a dictionary with selected columns\n",
    "names = ['MIT',\"Stanford\",\"DHTL\"]\n",
    "df = pd.DataFrame(names)\n",
    "print(df)\n",
    "names_rank=[['MIT',1],[\"Stanford\",2],[\"DHTL\",200]]\n",
    "df = pd.DataFrame(names_rank)\n",
    "print(df)"
   ]
  },
  {
   "cell_type": "code",
   "execution_count": 55,
   "metadata": {},
   "outputs": [
    {
     "name": "stdout",
     "output_type": "stream",
     "text": [
      "   Year  Population    Total  Violent\n",
      "0  1960   179323175  3384200   288460\n",
      "1  1961   182992000  3488000   289390\n",
      "2  1962   185771000  3752200   301510\n",
      "3  1963   188483000  4109500   316970\n",
      "4  1964   191141000  4564600   364220\n"
     ]
    }
   ],
   "source": [
    "#Example 13: Creating a DataFrame from a dictionary with selected columns and index\n",
    "crimes_rates = {\n",
    "\"Year\":[1960,1961,1962,1963,1964],\n",
    "\"Population\":[179323175,182992000,185771000,188483000,191141000],\n",
    "\"Total\":[3384200,3488000,3752200,4109500,4564600],\n",
    "\"Violent\":[288460,289390,301510,316970,364220] }\n",
    "crimes_dataframe = pd.DataFrame(crimes_rates)\n",
    "print(crimes_dataframe)"
   ]
  },
  {
   "cell_type": "code",
   "execution_count": 56,
   "metadata": {},
   "outputs": [
    {
     "name": "stdout",
     "output_type": "stream",
     "text": [
      "                MIT  Stanford   DHTL\n",
      "NumOfStudents  5000      4500  15000\n",
      "ranking           1         2    200\n",
      "int64\n"
     ]
    }
   ],
   "source": [
    "#Example 14: Creating a DataFrame from a dictionary with selected columns and index\n",
    "data = [ {'MIT': 5000, 'Stanford': 4500, \"DHTL\":15000},\n",
    "{'MIT': 1, 'Stanford': 2, \"DHTL\":200} ]\n",
    "df = pd.DataFrame(data, index=['NumOfStudents', \"ranking\"])\n",
    "print(df)\n",
    "print(df.DHTL.dtype)"
   ]
  },
  {
   "cell_type": "code",
   "execution_count": 57,
   "metadata": {},
   "outputs": [
    {
     "name": "stdout",
     "output_type": "stream",
     "text": [
      "    one   two\n",
      "1   1.0  1000\n",
      "2  23.0  2400\n",
      "3  45.0  1132\n",
      "4   NaN  3434\n"
     ]
    }
   ],
   "source": [
    "#Example 15: Creating a DataFrame from a dictionary with selected columns and index\n",
    "data = { \"one\": pd.Series([1,23,45], index = [1,2,3]),\n",
    "\"two\": pd.Series([1000,2400,1132,3434], index = [1,2,3,4]) }\n",
    "df = pd.DataFrame(data)\n",
    "print(df)"
   ]
  },
  {
   "cell_type": "code",
   "execution_count": 58,
   "metadata": {},
   "outputs": [
    {
     "name": "stdout",
     "output_type": "stream",
     "text": [
      "a    1.0\n",
      "b    2.0\n",
      "c    3.0\n",
      "d    4.0\n",
      "e    NaN\n",
      "Name: hai, dtype: float64\n"
     ]
    }
   ],
   "source": [
    "#Example 16: Creating a DataFrame from a dictionary with selected columns and index\n",
    "s = {'một': pd.Series([1., 2., 3., 5.], index=['a', 'b', 'c', 'e']),\n",
    "'hai': pd.Series([1., 2., 3., 4.], index=['a', 'b', 'c', 'd']),\n",
    "'ba': pd.Series([9., -1.3, 3.5, 41.1], index=['a', 'b', 'c', 'd'])}\n",
    "df = pd.DataFrame(s)\n",
    "# chọn cột hai\n",
    "df_hai = df['hai']\n",
    "print(df_hai)"
   ]
  },
  {
   "cell_type": "code",
   "execution_count": 59,
   "metadata": {},
   "outputs": [
    {
     "name": "stdout",
     "output_type": "stream",
     "text": [
      "   một  hai    ba   bốn\n",
      "a  1.0  1.0   9.0  -8.0\n",
      "b  2.0  2.0  -1.3   3.3\n",
      "c  3.0  3.0   3.5  -0.5\n",
      "d  NaN  4.0  41.1 -37.1\n",
      "e  5.0  NaN   NaN   NaN\n"
     ]
    }
   ],
   "source": [
    "#Example 17: Adding a new column to an existing DataFrame\n",
    "s = {'một': pd.Series([1., 2., 3., 5.], index=['a', 'b', 'c', 'e']),\n",
    "'hai': pd.Series([1., 2., 3., 4.], index=['a', 'b', 'c', 'd']),\n",
    "'ba': pd.Series([9., -1.3, 3.5, 41.1], index=['a', 'b', 'c', 'd'])}\n",
    "df = pd.DataFrame(s)\n",
    "# thêm cột bốn với giá trị mỗi ô theo công thức\n",
    "df['bốn'] = df['hai'] - df['ba']\n",
    "print(df)"
   ]
  },
  {
   "cell_type": "code",
   "execution_count": 60,
   "metadata": {},
   "outputs": [
    {
     "name": "stdout",
     "output_type": "stream",
     "text": [
      "   một  hai  chèn    ba   bốn Chuẩn  Khác     KT\n",
      "a  1.0  1.0   1.0   9.0  -8.0    OK   1.0  False\n",
      "b  2.0  2.0   2.0  -1.3   3.3    OK   2.0  False\n",
      "c  3.0  3.0   3.0   3.5  -0.5    OK   3.0   True\n",
      "d  NaN  4.0   NaN  41.1 -37.1    OK   NaN  False\n",
      "e  5.0  NaN   5.0   NaN   NaN    OK   NaN  False\n"
     ]
    }
   ],
   "source": [
    "#Example 18: Adding a new column to an existing DataFrame\n",
    "# thêm cột với giá trị vô hướng (scalar value)\n",
    "df['Chuẩn'] = 'OK'\n",
    "# thêm cột không cùng số lượng index với DataFrame\n",
    "df['Khác'] = df['hai'][:3]\n",
    "# thêm cột True/False theo điều kiện\n",
    "df['KT'] = df['một'] == 3.0\n",
    "# dùng hàm insert. Cột \"chèn\" bên dưới sẽ ở vị trí 2 (tính từ 0), có giá trị bằng cột một\n",
    "df.insert(2, 'chèn', df['một'])\n",
    "print(df)"
   ]
  },
  {
   "cell_type": "code",
   "execution_count": 61,
   "metadata": {},
   "outputs": [
    {
     "name": "stdout",
     "output_type": "stream",
     "text": [
      "một    1.0\n",
      "hai    1.0\n",
      "ba     9.0\n",
      "Name: a, dtype: float64\n"
     ]
    }
   ],
   "source": [
    "#Example 19: Deleting a column from a DataFrame\n",
    "s = {'một': pd.Series([1., 2., 3., 5.], index=['a', 'b', 'c', 'e']),\n",
    " 'hai': pd.Series([1., 2., 3., 4.], index=['a', 'b', 'c', 'd']),\n",
    " 'ba': pd.Series([9., -1.3, 3.5, 41.1], index=['a', 'b', 'c', 'd'])}\n",
    "df = pd.DataFrame(s)\n",
    "# chọn dòng theo label\n",
    "d = df.loc['a']\n",
    "print(d)\n"
   ]
  }
 ],
 "metadata": {
  "kernelspec": {
   "display_name": "Python 3",
   "language": "python",
   "name": "python3"
  },
  "language_info": {
   "codemirror_mode": {
    "name": "ipython",
    "version": 3
   },
   "file_extension": ".py",
   "mimetype": "text/x-python",
   "name": "python",
   "nbconvert_exporter": "python",
   "pygments_lexer": "ipython3",
   "version": "3.12.3"
  }
 },
 "nbformat": 4,
 "nbformat_minor": 2
}
